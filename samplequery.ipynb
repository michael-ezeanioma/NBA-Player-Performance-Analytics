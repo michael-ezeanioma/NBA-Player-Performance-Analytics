{
 "cells": [
  {
   "cell_type": "code",
   "execution_count": 3,
   "id": "7967cd38-829b-4f13-82b6-a3eda5515ea6",
   "metadata": {},
   "outputs": [],
   "source": [
    "import psycopg2"
   ]
  },
  {
   "cell_type": "code",
   "execution_count": 17,
   "id": "13352ac3-c347-4a00-8b86-5558afe3d22d",
   "metadata": {},
   "outputs": [
    {
     "name": "stdout",
     "output_type": "stream",
     "text": [
      "ID: 203518, Name: Alex Abrines\n",
      "ID: 203112, Name: Quincy Acy\n",
      "ID: 1630173, Name: Precious Achiuwa\n",
      "ID: 1629121, Name: Jaylen Adams\n"
     ]
    }
   ],
   "source": [
    "# Connect to the PostgreSQL database\n",
    "conn = psycopg2.connect(\n",
    "    dbname=\"nba_stats\",\n",
    "    user=\"postgres\",\n",
    "    password=\"B@$3ball\",\n",
    "    host=\"localhost\",\n",
    "    port=\"5432\"\n",
    ")\n",
    "\n",
    "# Create a cursor object\n",
    "cur = conn.cursor()\n",
    "\n",
    "# Query to get player data from the database\n",
    "cur.execute('SELECT DISTINCT \"PLAYER_ID\", \"PLAYER_NAME\" FROM public.\"PlayerCareer_Stats\";')\n",
    "\n",
    "# Fetch all results\n",
    "players = cur.fetchall()\n",
    "\n",
    "# Display the results\n",
    "for player in players:\n",
    "    print(f\"ID: {player[0]}, Name: {player[1]}\")\n",
    "\n",
    "# Close the cursor and the connection\n",
    "cur.close()\n",
    "conn.close()\n"
   ]
  },
  {
   "cell_type": "code",
   "execution_count": null,
   "id": "dc615e56-09ad-4590-b432-24774e165b90",
   "metadata": {},
   "outputs": [],
   "source": []
  }
 ],
 "metadata": {
  "kernelspec": {
   "display_name": "Python 3 (ipykernel)",
   "language": "python",
   "name": "python3"
  },
  "language_info": {
   "codemirror_mode": {
    "name": "ipython",
    "version": 3
   },
   "file_extension": ".py",
   "mimetype": "text/x-python",
   "name": "python",
   "nbconvert_exporter": "python",
   "pygments_lexer": "ipython3",
   "version": "3.10.14"
  }
 },
 "nbformat": 4,
 "nbformat_minor": 5
}
