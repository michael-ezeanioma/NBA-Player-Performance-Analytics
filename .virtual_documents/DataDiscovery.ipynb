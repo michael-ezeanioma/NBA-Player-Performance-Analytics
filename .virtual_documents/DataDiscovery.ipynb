import pandas as pd

from nba_api.stats.endpoints import playercareerstats
#from nba_api.stats.endpoints import get_players

from pprint import pprint


# Nikola Jokić
career = playercareerstats.PlayerCareerStats(player_id='203999')



# pandas data frames (optional: pip install pandas)
df = career.get_data_frames()[0]

print(df)


cols = df.columns.tolist()
print(cols)


from nba_api.stats.static import teams

# Get all NBA teams
nba_teams = teams.get_teams()

pprint(nba_teams)



from nba_api.stats.static import players

# Search for Nikola Jokic by name
player_dict = players.find_players_by_full_name("Nikola Jokić")

# Print the player ID if found
if player_dict:
    print(f"Nikola Jokic's ID: {player_dict[0]['id']}")
else:
    print("Player not found.")



